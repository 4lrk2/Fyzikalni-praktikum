{
 "cells": [
  {
   "cell_type": "code",
   "execution_count": 1,
   "metadata": {},
   "outputs": [],
   "source": [
    "from uncertainties import ufloat\n",
    "import numpy as np\n",
    "#constants\n",
    "e = 1.602176634e-19\n",
    "k = 1.380649e-23"
   ]
  },
  {
   "cell_type": "code",
   "execution_count": 2,
   "metadata": {},
   "outputs": [
    {
     "name": "stdout",
     "output_type": "stream",
     "text": [
      "(3.37+/-0.09)e+03\n",
      "(3.48+/-0.14)e+03\n"
     ]
    }
   ],
   "source": [
    "a192 = ufloat(3.4410369481, 9.5989105784726e-02)\n",
    "#a192 = ufloat(4.1156649706133, 1.1658577687e-01)\n",
    "a198 = ufloat( 3.3366318959877e+00, 1.3593603061118e-01)\n",
    "T1 = e/(k*a192)\n",
    "print(T1)\n",
    "T2 = e/(k*a198)\n",
    "print(T2)"
   ]
  },
  {
   "cell_type": "code",
   "execution_count": 3,
   "metadata": {},
   "outputs": [
    {
     "name": "stdout",
     "output_type": "stream",
     "text": [
      "0.379464\n",
      "1173.27+/-0.11\n",
      "0.379464\n",
      "1191.47+/-0.15\n"
     ]
    }
   ],
   "source": [
    "Rt192 = ufloat(2.54320422341241, 0.000201714547141368)\n",
    "Rt198 = ufloat(2.57676633577951, 0.000276422345683742)\n",
    "rho = 4.89e-8\n",
    "ds = 7.76e6\n",
    "alpha = 4.86e-3\n",
    "#R = rho *ds (1+alpha*T)\n",
    "#T = (R/(rho*ds)-1)/alpha\n",
    "for Rt in [Rt192, Rt198]:\n",
    "    q = rho*ds\n",
    "    print(q)\n",
    "    T = (Rt/q-1)/alpha\n",
    "    print(T)"
   ]
  },
  {
   "cell_type": "code",
   "execution_count": null,
   "metadata": {},
   "outputs": [
    {
     "name": "stdout",
     "output_type": "stream",
     "text": [
      "28.06+/-0.08\n",
      "9.8+/-0.5\n",
      "0.0072+/-0.0004\n",
      "0.0071+/-0.0005\n"
     ]
    }
   ],
   "source": [
    "from uncertainties.umath import exp\n",
    "\n",
    "lnI192 = ufloat(-1.025694628276922e+01 ,6.0678361141251e-03  )\n",
    "lnI198 = ufloat(-9.726959247453278e+00,  7.688784468218660e-03)\n",
    "deltaI192 = ufloat(7.217734762890983e-03,\t4.063627323465593e-04)\n",
    "deltaI198 = ufloat(7.071419807699987e-03,\t4.913676088230240e-04)\n",
    "\n",
    "Imax192 = 40.9789512\n",
    "Imax198 = 69.4844903\n",
    "I1 = exp(lnI192) * 1e6\n",
    "I2 = exp(lnI198) *1e6\n",
    "print(-I1 + Imax192)\n",
    "print(-I2 + Imax198)\n",
    "\n",
    "print (deltaI192)\n",
    "print (deltaI198)\n"
   ]
  },
  {
   "cell_type": "code",
   "execution_count": 16,
   "metadata": {},
   "outputs": [
    {
     "name": "stdout",
     "output_type": "stream",
     "text": [
      "-11.257+/-0.006\n",
      "E =  1248234.7962942277\n",
      "finalniclen =  0.175835+/-0.000033\n",
      "i - i0 =  8.49+/-0.05\n",
      "------------------------\n",
      "-9.727+/-0.008\n",
      "E =  1248234.7962942277\n",
      "finalniclen =  0.17050+/-0.00004\n",
      "i - i0 =  39.47+/-0.30\n",
      "------------------------\n"
     ]
    }
   ],
   "source": [
    "from uncertainties.umath import sqrt, log\n",
    "\n",
    "eps0 = 8.854187817e-12\n",
    "e = 1.602176634e-19\n",
    "T1 = ufloat(1173.27,0.11)\n",
    "T2 = ufloat(1191.47,0.15)\n",
    "L = 25*1e-3\n",
    "D = 15*1e-3\n",
    "r = 0.045*1e-3\n",
    "R = 17*1e-3 \n",
    "\n",
    "for T, I in zip([T1, T2], [lnI192, lnI198]):\n",
    "    jmenovatel = 4 * np.pi * eps0 * k**2 * T**2\n",
    "    clen = e**3 / jmenovatel\n",
    "    clen1 = clen\n",
    "    u = 500\n",
    "    print(I)\n",
    "\n",
    "    jmenovatel = r * log(R / r)\n",
    "    clen = 1 / jmenovatel\n",
    "    clen = ((L - D) / D) * clen\n",
    "    E = u * clen\n",
    "    print(\"E = \", E)\n",
    "\n",
    "    finalniclen = E * clen1\n",
    "    print(\"finalniclen = \", finalniclen)\n",
    "    delta = exp(I - sqrt(finalniclen))*1e6\n",
    "\n",
    "    print(\"i - i0 = \", delta)\n",
    "    print(\"------------------------\")\n"
   ]
  },
  {
   "cell_type": "code",
   "execution_count": 86,
   "metadata": {},
   "outputs": [
    {
     "name": "stdout",
     "output_type": "stream",
     "text": [
      "4.69+/-0.09\n",
      "(5+/-4)e+05\n"
     ]
    }
   ],
   "source": [
    "A = ufloat (-5.4442646844650e+04 , 1.0879250315164e+03 )\n",
    "B = ufloat(1.3052636584735e+01 ,   8.3424676092652e-01   )\n",
    "w = -k*A /e\n",
    "print(w)\n",
    "print (exp(B))"
   ]
  },
  {
   "cell_type": "code",
   "execution_count": null,
   "metadata": {},
   "outputs": [],
   "source": []
  },
  {
   "cell_type": "code",
   "execution_count": null,
   "metadata": {},
   "outputs": [],
   "source": []
  }
 ],
 "metadata": {
  "kernelspec": {
   "display_name": "Python 3",
   "language": "python",
   "name": "python3"
  },
  "language_info": {
   "codemirror_mode": {
    "name": "ipython",
    "version": 3
   },
   "file_extension": ".py",
   "mimetype": "text/x-python",
   "name": "python",
   "nbconvert_exporter": "python",
   "pygments_lexer": "ipython3",
   "version": "3.13.1"
  }
 },
 "nbformat": 4,
 "nbformat_minor": 2
}
