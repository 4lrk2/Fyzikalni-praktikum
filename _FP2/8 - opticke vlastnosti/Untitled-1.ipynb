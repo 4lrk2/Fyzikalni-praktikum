{
 "cells": [
  {
   "cell_type": "code",
   "execution_count": 27,
   "metadata": {},
   "outputs": [],
   "source": [
    "import csv\n",
    "import uncertainties.unumpy as unp\n",
    "import pandas\n",
    "from uncertainties import ufloat\n",
    "import time\n"
   ]
  },
  {
   "cell_type": "code",
   "execution_count": 28,
   "metadata": {},
   "outputs": [],
   "source": [
    "\n",
    "df = pandas.read_csv('Parametryspojky.csv')\n"
   ]
  },
  {
   "cell_type": "code",
   "execution_count": 43,
   "metadata": {},
   "outputs": [
    {
     "name": "stdout",
     "output_type": "stream",
     "text": [
      "f = (-3.9+/-1.3)e+02\n",
      "f2 = -71.14+/-0.05\n",
      "f3 = 1.0+/-1.7\n",
      "        A     A'      R      a     a'          fl        fl2       fl3\n",
      "0   69.85  96.10  52.50  17.35  43.60 -255.717524 -71.206311  3.695619\n",
      "1   69.85  92.70  53.20  16.65  39.50 -283.373961 -71.188123  2.679431\n",
      "2   69.85  91.25  53.60  16.25  37.65 -297.841706 -71.177947  2.265158\n",
      "3   69.85  89.15  54.00  15.85  35.15 -322.649093 -71.167925  1.570823\n",
      "4   69.85  88.00  54.65  15.20  33.35 -338.666667 -71.151957  1.355131\n",
      "5   69.85  86.50  55.00  14.85  31.50 -362.884384 -71.143519  0.851351\n",
      "6   69.85  85.00  55.80  14.05  29.20 -391.897690 -71.124635  0.530033\n",
      "7   69.85  82.00  56.50  13.35  25.50 -471.415638 -71.108559 -0.629630\n",
      "8   69.85  80.00  57.85  12.00  22.15 -550.541872 -71.078672 -1.009298\n",
      "9   69.85  78.00  58.75  11.10  19.25 -668.503067 -71.059524 -1.741948\n",
      "10    NaN    NaN    NaN    NaN    NaN         NaN        NaN       NaN\n",
      "11    NaN    NaN    NaN    NaN    NaN         NaN        NaN       NaN\n",
      "12    NaN    NaN    NaN    NaN    NaN         NaN        NaN       NaN\n",
      "13    NaN    NaN    NaN    NaN    NaN         NaN        NaN       NaN\n",
      "14    NaN    NaN    NaN    NaN    NaN         NaN        NaN       NaN\n",
      "15    NaN    NaN    NaN    NaN    NaN         NaN        NaN       NaN\n",
      "16    NaN    NaN    NaN    NaN    NaN         NaN        NaN       NaN\n",
      "17    NaN    NaN    NaN    NaN    NaN         NaN        NaN       NaN\n",
      "18    NaN    NaN    NaN    NaN    NaN         NaN        NaN       NaN\n",
      "19    NaN    NaN    NaN    NaN    NaN         NaN        NaN       NaN\n",
      "20    NaN    NaN    NaN    NaN    NaN         NaN        NaN       NaN\n",
      "21    NaN    NaN    NaN    NaN    NaN         NaN        NaN       NaN\n",
      "22    NaN    NaN    NaN    NaN    NaN         NaN        NaN       NaN\n",
      "23    NaN    NaN    NaN    NaN    NaN         NaN        NaN       NaN\n",
      "24    NaN    NaN    NaN    NaN    NaN         NaN        NaN       NaN\n",
      "25    NaN    NaN    NaN    NaN    NaN         NaN        NaN       NaN\n",
      "26    NaN    NaN    NaN    NaN    NaN         NaN        NaN       NaN\n",
      "27    NaN    NaN    NaN    NaN    NaN         NaN        NaN       NaN\n",
      "28    NaN    NaN    NaN    NaN    NaN         NaN        NaN       NaN\n",
      "29    NaN    NaN    NaN    NaN    NaN         NaN        NaN       NaN\n",
      "\\begin{tabular}{rrrrrrr}\n",
      "\\toprule\n",
      "a & a' & Beta & Delta & fl & fl2 & fl3 \\\\\n",
      "\\midrule\n",
      "-20.750000 & 71.400000 & -3.300000 & 49.000000 & 16.080000 & 15.920000 & 16.520000 \\\\\n",
      "-21.300000 & 66.700000 & -3.000000 & 43.500000 & 16.140000 & 15.980000 & 16.620000 \\\\\n",
      "-21.600000 & 62.400000 & -2.760000 & 39.100000 & 16.050000 & 15.860000 & 16.450000 \\\\\n",
      "-22.500000 & 57.500000 & -2.430000 & 33.250000 & 16.170000 & 15.940000 & 16.550000 \\\\\n",
      "-23.450000 & 52.550000 & -2.130000 & 27.350000 & 16.210000 & 15.960000 & 16.540000 \\\\\n",
      "-24.850000 & 47.150000 & -1.810000 & 21.000000 & 16.270000 & 16.010000 & 16.470000 \\\\\n",
      "-25.000000 & 46.000000 & -1.770000 & 19.000000 & 16.200000 & 15.970000 & 16.480000 \\\\\n",
      "-26.400000 & 42.600000 & -1.550000 & 14.800000 & 16.300000 & 16.050000 & 16.460000 \\\\\n",
      "-26.650000 & 41.350000 & -1.480000 & 12.400000 & 16.210000 & 15.900000 & 16.430000 \\\\\n",
      "-34.250000 & 33.650000 & -1.000000 & 0.000000 & 16.970000 & 17.120000 & 16.980000 \\\\\n",
      "NaN & NaN & NaN & NaN & NaN & NaN & NaN \\\\\n",
      "NaN & NaN & NaN & NaN & NaN & NaN & NaN \\\\\n",
      "NaN & NaN & NaN & NaN & NaN & NaN & NaN \\\\\n",
      "NaN & NaN & NaN & NaN & NaN & NaN & NaN \\\\\n",
      "NaN & NaN & NaN & NaN & NaN & NaN & NaN \\\\\n",
      "NaN & NaN & NaN & NaN & NaN & NaN & NaN \\\\\n",
      "NaN & NaN & NaN & NaN & NaN & NaN & NaN \\\\\n",
      "NaN & NaN & NaN & NaN & NaN & NaN & NaN \\\\\n",
      "NaN & NaN & NaN & NaN & NaN & NaN & NaN \\\\\n",
      "NaN & NaN & NaN & NaN & NaN & NaN & NaN \\\\\n",
      "NaN & NaN & NaN & NaN & NaN & NaN & NaN \\\\\n",
      "NaN & NaN & NaN & NaN & NaN & NaN & NaN \\\\\n",
      "NaN & NaN & NaN & NaN & NaN & NaN & NaN \\\\\n",
      "NaN & NaN & NaN & NaN & NaN & NaN & NaN \\\\\n",
      "NaN & NaN & NaN & NaN & NaN & NaN & NaN \\\\\n",
      "NaN & NaN & NaN & NaN & NaN & NaN & NaN \\\\\n",
      "NaN & NaN & NaN & NaN & NaN & NaN & NaN \\\\\n",
      "NaN & NaN & NaN & NaN & NaN & NaN & NaN \\\\\n",
      "NaN & NaN & NaN & NaN & NaN & NaN & NaN \\\\\n",
      "NaN & NaN & NaN & NaN & NaN & NaN & NaN \\\\\n",
      "NaN & NaN & NaN & NaN & NaN & NaN & NaN \\\\\n",
      "NaN & NaN & NaN & NaN & NaN & NaN & NaN \\\\\n",
      "NaN & NaN & NaN & NaN & NaN & NaN & NaN \\\\\n",
      "\\bottomrule\n",
      "\\end{tabular}\n",
      "\n"
     ]
    }
   ],
   "source": [
    "import time\n",
    "\n",
    "df['fl'] = (df.iloc[:, 0] * df.iloc[:, 1])/(df.iloc[:, 0] - df.iloc[:, 1])\n",
    "average_sum = df['fl'].mean()\n",
    "\n",
    "std_dev_sum = df['fl'].std()\n",
    "f = ufloat(average_sum, std_dev_sum)\n",
    "print('f =', f)\n",
    "\n",
    "\n",
    "df['fl2'] = (df.iloc[:, 0] * df.iloc[:, 2])/(1 - df.iloc[:, 2])\n",
    "sum = df['fl2'].mean()\n",
    "std_dev = df['fl2'].std()\n",
    "f2 = ufloat(sum, std_dev)\n",
    "print('f2 =', f2)\n",
    "\n",
    "df['fl3'] = ((-1*df.iloc[:, 0] + df.iloc[:, 1])**2 - df.iloc[:,3]**2)/(4*(-df.iloc[:, 0] + df.iloc[:, 1]))\n",
    "sum = df['fl3'].mean()\n",
    "std_dev = df['fl3'].std()\n",
    "f3 = ufloat(sum, std_dev)\n",
    "print('f3 =', f3)\n",
    "\n",
    "\n",
    "print(df)\n",
    "df = df.round(2)\n",
    "print(latex_table)\n"
   ]
  },
  {
   "cell_type": "code",
   "execution_count": 45,
   "metadata": {},
   "outputs": [
    {
     "name": "stdout",
     "output_type": "stream",
     "text": [
      "        A     A'      R      a     a'\n",
      "0   69.85  96.10  52.50  17.35  43.60\n",
      "1   69.85  92.70  53.20  16.65  39.50\n",
      "2   69.85  91.25  53.60  16.25  37.65\n",
      "3   69.85  89.15  54.00  15.85  35.15\n",
      "4   69.85  88.00  54.65  15.20  33.35\n",
      "5   69.85  86.50  55.00  14.85  31.50\n",
      "6   69.85  85.00  55.80  14.05  29.20\n",
      "7   69.85  82.00  56.50  13.35  25.50\n",
      "8   69.85  80.00  57.85  12.00  22.15\n",
      "9   69.85  78.00  58.75  11.10  19.25\n",
      "10    NaN    NaN    NaN    NaN    NaN\n",
      "11    NaN    NaN    NaN    NaN    NaN\n",
      "12    NaN    NaN    NaN    NaN    NaN\n",
      "13    NaN    NaN    NaN    NaN    NaN\n",
      "14    NaN    NaN    NaN    NaN    NaN\n",
      "15    NaN    NaN    NaN    NaN    NaN\n",
      "16    NaN    NaN    NaN    NaN    NaN\n",
      "17    NaN    NaN    NaN    NaN    NaN\n",
      "18    NaN    NaN    NaN    NaN    NaN\n",
      "19    NaN    NaN    NaN    NaN    NaN\n",
      "20    NaN    NaN    NaN    NaN    NaN\n",
      "21    NaN    NaN    NaN    NaN    NaN\n",
      "22    NaN    NaN    NaN    NaN    NaN\n",
      "23    NaN    NaN    NaN    NaN    NaN\n",
      "24    NaN    NaN    NaN    NaN    NaN\n",
      "25    NaN    NaN    NaN    NaN    NaN\n",
      "26    NaN    NaN    NaN    NaN    NaN\n",
      "27    NaN    NaN    NaN    NaN    NaN\n",
      "28    NaN    NaN    NaN    NaN    NaN\n",
      "29    NaN    NaN    NaN    NaN    NaN\n"
     ]
    }
   ],
   "source": [
    "df = pandas.read_csv('Parametryrozptylky.csv')\n",
    "print (df)"
   ]
  },
  {
   "cell_type": "code",
   "execution_count": null,
   "metadata": {},
   "outputs": [],
   "source": [
    "df['fl'] = (df.iloc[:, 3] * df.iloc[:, 4])/(df.iloc[:, 3] - df.iloc[:, 4])\n",
    "\n",
    "average_sum = df['fl'].mean()\n",
    "std_dev_sum = df['fl'].std()\n",
    "f = ufloat(average_sum, std_dev_sum)\n",
    "print('f =', f)\n",
    "print (df)\n",
    "df = df.round(2)\n",
    "latex_table = df.to_latex()\n",
    "print(latex_table)\n",
    "\n"
   ]
  },
  {
   "cell_type": "code",
   "execution_count": 83,
   "metadata": {},
   "outputs": [
    {
     "name": "stdout",
     "output_type": "stream",
     "text": [
      "17.477+/-0.007\n",
      "83.92+/-0.07\n",
      "(1.53+/-0.31)e+05\n",
      "300.89+/-0.31\n",
      "-301.48+/-0.35\n",
      "1.516+/-0.008\n",
      "1.540+/-0.019\n"
     ]
    }
   ],
   "source": [
    "z = ufloat(34.954,0.015)\n",
    "r =z/2\n",
    "f1 = ufloat (162.6,2.6)\n",
    "f2 = ufloat (-279,10)\n",
    "print(r)\n",
    "h1 = ufloat(1.84,0.0003)\n",
    "h2 = ufloat(0.001,0.0002)\n",
    "r1 = (r**2 + h1**2)/(2*h1)\n",
    "r2 = (r**2 + h2**2)/(2*h2)\n",
    "print(r1)\n",
    "print(r2)\n",
    "\n",
    "h4 = ufloat(0.507,0.0004)\n",
    "h3 = ufloat(0.508,0.0003)\n",
    "\n",
    "r3 = (r**2 + h3**2)/(2*h3)\n",
    "r4 = -(r**2 + h4**2)/(2*h4)\n",
    "print(r3)\n",
    "print(r4)\n",
    "\n",
    "n = 1 + 1/(f1)/(1/r1 - 1/r2)\n",
    "n2 = 1 + 1/(f2)/(1/r4 - 1/r3)\n",
    "print(n)\n",
    "print(n2)\n"
   ]
  }
 ],
 "metadata": {
  "kernelspec": {
   "display_name": "base",
   "language": "python",
   "name": "python3"
  },
  "language_info": {
   "codemirror_mode": {
    "name": "ipython",
    "version": 3
   },
   "file_extension": ".py",
   "mimetype": "text/x-python",
   "name": "python",
   "nbconvert_exporter": "python",
   "pygments_lexer": "ipython3",
   "version": "3.12.4"
  }
 },
 "nbformat": 4,
 "nbformat_minor": 2
}
