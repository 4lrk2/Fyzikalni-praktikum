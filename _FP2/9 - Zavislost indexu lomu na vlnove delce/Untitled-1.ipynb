{
 "cells": [
  {
   "cell_type": "code",
   "execution_count": 31,
   "metadata": {},
   "outputs": [],
   "source": [
    "import csv\n",
    "import uncertainties.unumpy as unp\n",
    "import pandas\n",
    "from uncertainties import ufloat\n",
    "import time\n",
    "import numpy as np\n"
   ]
  },
  {
   "cell_type": "code",
   "execution_count": 81,
   "metadata": {},
   "outputs": [
    {
     "name": "stderr",
     "output_type": "stream",
     "text": [
      "C:\\Users\\teodd\\AppData\\Local\\Temp\\ipykernel_26572\\1838851421.py:4: FutureWarning: Setting an item of incompatible dtype is deprecated and will raise in a future error of pandas. Value '0    286.3147+/-0.0005\n",
      "1    276.6708+/-0.0005\n",
      "2    270.6128+/-0.0005\n",
      "3    275.4186+/-0.0005\n",
      "4    279.2650+/-0.0005\n",
      "Name: phi1, dtype: object' has dtype incompatible with float64, please explicitly cast to a compatible dtype first.\n",
      "  df.iloc[:, 0] = df.iloc[:, 0].apply(lambda x: ufloat(x, 0.000481125))\n",
      "C:\\Users\\teodd\\AppData\\Local\\Temp\\ipykernel_26572\\1838851421.py:5: FutureWarning: Setting an item of incompatible dtype is deprecated and will raise in a future error of pandas. Value '0    146.0778+/-0.0005\n",
      "1    136.4428+/-0.0005\n",
      "2    130.3825+/-0.0005\n",
      "3    135.1953+/-0.0005\n",
      "4    139.0297+/-0.0005\n",
      "Name: phi2, dtype: object' has dtype incompatible with float64, please explicitly cast to a compatible dtype first.\n",
      "  df.iloc[:, 1] = df.iloc[:, 1].apply(lambda x: ufloat(x, 0.000481125))\n"
     ]
    }
   ],
   "source": [
    "\n",
    "df = pandas.read_csv('Uhelhranolu.csv')\n",
    "\n",
    "df = df.iloc[:5]\n",
    "df.iloc[:, 0] = df.iloc[:, 0].apply(lambda x: ufloat(x, 0.000481125))\n",
    "df.iloc[:, 1] = df.iloc[:, 1].apply(lambda x: ufloat(x, 0.000481125))\n"
   ]
  },
  {
   "cell_type": "code",
   "execution_count": null,
   "metadata": {},
   "outputs": [
    {
     "name": "stdout",
     "output_type": "stream",
     "text": [
      "39.76922+/-0.00030\n",
      "                phi1               phi2               phi\n",
      "0  286.3147+/-0.0005  146.0778+/-0.0005  39.7631+/-0.0007\n",
      "1  276.6708+/-0.0005  136.4428+/-0.0005  39.7719+/-0.0007\n",
      "2  270.6128+/-0.0005  130.3825+/-0.0005  39.7697+/-0.0007\n",
      "3  275.4186+/-0.0005  135.1953+/-0.0005  39.7767+/-0.0007\n",
      "4  279.2650+/-0.0005  139.0297+/-0.0005  39.7647+/-0.0007\n",
      "39.76922+/-0.00031\n"
     ]
    }
   ],
   "source": [
    "\n",
    "\n",
    "df['phi'] = 180 - (df.iloc[:, 0] - df.iloc[:, 1])\n",
    "\n",
    "phi_nominal = df['phi'].sum()/len(df)\n",
    "print(phi_nominal)\n",
    "print(df)\n",
    "#latex_table = df.to_latex()\n",
    "#print(latex_table)\n",
    "p = ufloat (39.7631,0.0007)\n",
    "p2 = ufloat (39.7719,0.0007)\n",
    "p3 = ufloat (39.7697,0.0007)\n",
    "p4 = ufloat (39.7767,0.0007)\n",
    "p5 = ufloat (39.7647,0.0007)\n",
    "\n"
   ]
  },
  {
   "cell_type": "code",
   "execution_count": 91,
   "metadata": {},
   "outputs": [
    {
     "name": "stderr",
     "output_type": "stream",
     "text": [
      "C:\\Users\\teodd\\AppData\\Local\\Temp\\ipykernel_26572\\1352908441.py:3: FutureWarning: Setting an item of incompatible dtype is deprecated and will raise in a future error of pandas. Value '0    184.0208+/-0.0005\n",
      "1    183.9608+/-0.0005\n",
      "2    183.7381+/-0.0005\n",
      "3    183.5236+/-0.0005\n",
      "4    183.3628+/-0.0005\n",
      "Name: \\phi 1 [^\\circ], dtype: object' has dtype incompatible with float64, please explicitly cast to a compatible dtype first.\n",
      "  df.iloc[:, 2] = df.iloc[:,2].apply(lambda x: ufloat(x, 0.000481125))\n",
      "C:\\Users\\teodd\\AppData\\Local\\Temp\\ipykernel_26572\\1352908441.py:4: FutureWarning: Setting an item of incompatible dtype is deprecated and will raise in a future error of pandas. Value '0    228.6097+/-0.0005\n",
      "1    228.6842+/-0.0005\n",
      "2    228.9011+/-0.0005\n",
      "3    229.1078+/-0.0005\n",
      "4    229.2669+/-0.0005\n",
      "Name: \\phi 2 [^\\circ], dtype: object' has dtype incompatible with float64, please explicitly cast to a compatible dtype first.\n",
      "  df.iloc[:, 3] = df.iloc[:, 3].apply(lambda x: ufloat(x, 0.000481125))\n"
     ]
    }
   ],
   "source": [
    "df = pandas.read_csv('uhly.csv')\n",
    "df = df.iloc[:5]\n",
    "df.iloc[:, 2] = df.iloc[:,2].apply(lambda x: ufloat(x, 0.000481125))\n",
    "df.iloc[:, 3] = df.iloc[:, 3].apply(lambda x: ufloat(x, 0.000481125))"
   ]
  },
  {
   "cell_type": "code",
   "execution_count": 95,
   "metadata": {},
   "outputs": [
    {
     "name": "stdout",
     "output_type": "stream",
     "text": [
      "   \\lambda [nm]        Barva    \\phi 1 [^\\circ]    \\phi 2 [^\\circ]  \\\n",
      "0         623.4      Cervena  184.0208+/-0.0005  228.6097+/-0.0005   \n",
      "1         576.9        Zluta  183.9608+/-0.0005  228.6842+/-0.0005   \n",
      "2         491.6  Modrozelena  183.7381+/-0.0005  228.9011+/-0.0005   \n",
      "3         435.8        Modra  183.5236+/-0.0005  229.1078+/-0.0005   \n",
      "4         404.6      Fialova  183.3628+/-0.0005  229.2669+/-0.0005   \n",
      "\n",
      "                delta                  n  \n",
      "0  22.29444+/-0.00034  1.51566+/-0.00009  \n",
      "1  22.36167+/-0.00034  1.51713+/-0.00009  \n",
      "2  22.58153+/-0.00034  1.52196+/-0.00009  \n",
      "3  22.79208+/-0.00034  1.52658+/-0.00009  \n",
      "4  22.95208+/-0.00034  1.53009+/-0.00009  \n",
      "n = 1.52228+/-0.00009\n",
      "A = 1.50493+/-0.00019\n",
      "B = (4.11+/-0.04)e+03\n",
      "eta d =  47.4+/-0.6\n",
      "eta d =  65.8+/-0.7\n"
     ]
    }
   ],
   "source": [
    "df['delta'] = (-df.iloc[:, 2] + df.iloc[:, 3])/2\n",
    "omega = ufloat(39.769,0.006)\n",
    "df['n'] = (unp.sin(((df.iloc[:, 4]+omega)*2*np.pi/360)/2) )/(unp.sin((omega*2*np.pi/360)/2))\n",
    "df = df.dropna().reset_index(drop=True)\n",
    "#df = df.drop(columns=[df.columns[2], df.columns[3]])\n",
    "print(df)\n",
    "average_sum = unp.nominal_values(df['n']).mean()\n",
    "std_dev_sum = unp.std_devs(df['n']).mean()\n",
    "n = ufloat(average_sum, std_dev_sum)\n",
    "print('n =', n)\n",
    "A = ufloat( 1.5049310671007e+00 , 1.8752190741354e-04     )\n",
    "B = ufloat( 4.1140721372042e+03 , 4.2397783944721e+01    )\n",
    "print ('A =', A)\n",
    "print ('B =', B)\n",
    "\n",
    "\n",
    "nd = ufloat(1.5171,0.00009)\n",
    "nf = ufloat(1.52658, 0.00009)\n",
    "nc = ufloat (1.51566, 0.00009)\n",
    "print (\"eta d = \", (nd-1)/(nf-nc))\n",
    "\n",
    "nd = A + B/(587.6**2)\n",
    "nf = A + B/(486.1**2)\n",
    "nc = A + B/(656.3**2)\n",
    "print (\"eta d = \", (nd-1)/(nf-nc))\n"
   ]
  },
  {
   "cell_type": "code",
   "execution_count": 83,
   "metadata": {},
   "outputs": [
    {
     "name": "stdout",
     "output_type": "stream",
     "text": [
      "17.477+/-0.007\n",
      "83.92+/-0.07\n",
      "(1.53+/-0.31)e+05\n",
      "300.89+/-0.31\n",
      "-301.48+/-0.35\n",
      "1.516+/-0.008\n",
      "1.540+/-0.019\n"
     ]
    }
   ],
   "source": [
    "z = ufloat(34.954,0.015)\n",
    "r =z/2\n",
    "f1 = ufloat (162.6,2.6)\n",
    "f2 = ufloat (-279,10)\n",
    "print(r)\n",
    "h1 = ufloat(1.84,0.0003)\n",
    "h2 = ufloat(0.001,0.0002)\n",
    "r1 = (r**2 + h1**2)/(2*h1)\n",
    "r2 = (r**2 + h2**2)/(2*h2)\n",
    "print(r1)\n",
    "print(r2)\n",
    "\n",
    "h4 = ufloat(0.507,0.0004)\n",
    "h3 = ufloat(0.508,0.0003)\n",
    "\n",
    "r3 = (r**2 + h3**2)/(2*h3)\n",
    "r4 = -(r**2 + h4**2)/(2*h4)\n",
    "print(r3)\n",
    "print(r4)\n",
    "\n",
    "n = 1 + 1/(f1)/(1/r1 - 1/r2)\n",
    "n2 = 1 + 1/(f2)/(1/r4 - 1/r3)\n",
    "print(n)\n",
    "print(n2)\n"
   ]
  }
 ],
 "metadata": {
  "kernelspec": {
   "display_name": "base",
   "language": "python",
   "name": "python3"
  },
  "language_info": {
   "codemirror_mode": {
    "name": "ipython",
    "version": 3
   },
   "file_extension": ".py",
   "mimetype": "text/x-python",
   "name": "python",
   "nbconvert_exporter": "python",
   "pygments_lexer": "ipython3",
   "version": "3.12.4"
  }
 },
 "nbformat": 4,
 "nbformat_minor": 2
}
