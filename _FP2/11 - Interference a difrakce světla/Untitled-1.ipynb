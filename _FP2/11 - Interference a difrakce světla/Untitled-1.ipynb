{
 "cells": [
  {
   "cell_type": "code",
   "execution_count": 2,
   "metadata": {},
   "outputs": [],
   "source": [
    "from uncertainties import ufloat"
   ]
  },
  {
   "cell_type": "code",
   "execution_count": 3,
   "metadata": {},
   "outputs": [
    {
     "name": "stdout",
     "output_type": "stream",
     "text": [
      "1.0002444+/-0.0000035\n",
      "311.8+/-1.0\n",
      "627+/-4\n"
     ]
    }
   ],
   "source": [
    "N = ufloat(36.8,0.37)\n",
    "pa = 1000\n",
    "dp = 1000\n",
    "lda = 531.2e-9\n",
    "d = 0.04\n",
    "j = ufloat(1,0.01)\n",
    "\n",
    "n = 1 + (N * lda * pa)/ (2 * d * (dp))*j\n",
    "print(n)\n",
    "\n",
    "d300 = ufloat (3207e-6,10e-6)\n",
    "d600 = ufloat (1594e-6,10e-6)\n",
    "\n",
    "N300 = 1/d300\n",
    "N600 = 1/d600\n",
    "print(N300)\n",
    "print(N600)"
   ]
  }
 ],
 "metadata": {
  "kernelspec": {
   "display_name": "Python 3",
   "language": "python",
   "name": "python3"
  },
  "language_info": {
   "codemirror_mode": {
    "name": "ipython",
    "version": 3
   },
   "file_extension": ".py",
   "mimetype": "text/x-python",
   "name": "python",
   "nbconvert_exporter": "python",
   "pygments_lexer": "ipython3",
   "version": "3.13.1"
  }
 },
 "nbformat": 4,
 "nbformat_minor": 2
}
