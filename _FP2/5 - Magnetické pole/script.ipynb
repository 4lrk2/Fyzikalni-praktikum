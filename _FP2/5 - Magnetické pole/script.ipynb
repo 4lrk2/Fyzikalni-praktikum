{
 "cells": [
  {
   "cell_type": "code",
   "execution_count": 33,
   "metadata": {},
   "outputs": [],
   "source": [
    "import numpy as np\n",
    "\n",
    "import matplotlib.pyplot as plt\n",
    "\n",
    "from uncertainties import ufloat    # for uncertainty arrays\n",
    "import pandas as pd\n",
    "import uncertainties.unumpy as unp\n",
    "\n",
    "\n"
   ]
  },
  {
   "cell_type": "code",
   "execution_count": 68,
   "metadata": {},
   "outputs": [
    {
     "name": "stdout",
     "output_type": "stream",
     "text": [
      "0.01060+/-0.00025 0.12378+/-0.00019 0.29830+/-0.00030 5.12+/-0.06\n",
      "    r  phi  phi'  phi2  phi2'                 Avg_phi       Avg_phi2  \\\n",
      "0 -40   55    50    37     30             0.92+/-0.04    0.58+/-0.06   \n",
      "1 -30   75    70    55     47             1.27+/-0.04    0.89+/-0.07   \n",
      "2 -20   85    85    80     75  1.4835298641951802+/-0    1.35+/-0.04   \n",
      "3  20   85    85    78     82  1.4835298641951802+/-0  1.396+/-0.035   \n",
      "4  30   75    75    60     50  1.3089969389957472+/-0    0.96+/-0.09   \n",
      "5  40   55    55    40     30  0.9599310885968813+/-0    0.61+/-0.09   \n",
      "\n",
      "                  A  \n",
      "0  (-6.6+/-0.6)e-07  \n",
      "1  (-5.9+/-0.6)e-07  \n",
      "2  (-6.4+/-0.7)e-07  \n",
      "3   (7.2+/-0.8)e-07  \n",
      "4   (6.9+/-0.6)e-07  \n",
      "5   (7.1+/-0.8)e-07  \n",
      "A = (6.69+/-0.28)e-07\n",
      "J = 0.0003892+/-0.0000013\n",
      "B = 0.0001465+/-0.0000035\n",
      "Hz = 14.8+/-0.4\n",
      "T = 0.00001860 +/- 0.00000045\n"
     ]
    }
   ],
   "source": [
    "\n",
    "\n",
    "d = ufloat(21.2,0.5)\n",
    "r = d/2\n",
    "l = ufloat(123.78, 0.19)\n",
    "m = ufloat(298.3, 0.3)\n",
    "Tau = ufloat(5.12, 0.06)\n",
    "\n",
    "r = r/1000\n",
    "l = l/1000\n",
    "m = m/1000\n",
    "print(r, l, m, Tau)\n",
    "mu0 = 4*np.pi*10**-7\n",
    "\n",
    "\n",
    "# Assuming the CSV file is named 'data.csv' and is in the same directory as the notebook\n",
    "df = pd.read_csv('data.csv')\n",
    "df['Av_phi'] = df[['phi', \"phi'\"]].mean(axis=1)\n",
    "df['Err_phi'] = df[['phi', \"phi'\"]].sem(axis=1)\n",
    "df['Av_phi2'] = df[['phi2', \"phi2'\"]].mean(axis=1)\n",
    "df['Err_phi2'] = df[['phi2', \"phi2'\"]].sem(axis=1)\n",
    "df['0Avg_phi'] = df.apply(lambda row: ufloat(row['Av_phi'], row['Err_phi']), axis=1)\n",
    "df['0Avg_phi2'] = df.apply(lambda row: ufloat(row['Av_phi2'], row[\"Err_phi2\"]), axis=1)\n",
    "df['Avg_phi'] = df['0Avg_phi'].apply(unp.radians)\n",
    "df['Avg_phi2'] = df['0Avg_phi2'].apply(unp.radians)\n",
    "df = df.drop(columns=['Av_phi', \"Err_phi\", 'Av_phi2', \"Err_phi2\", \"0Avg_phi\", \"0Avg_phi2\"], errors='ignore')\n",
    "df['A'] = ((4* np.pi* mu0* (df['r']/100)**3)/(7))*((1.5* (df['Avg_phi']).apply(unp.tan)) + 4*(df['Avg_phi2']).apply(unp.tan))\n",
    "\n",
    "print(df)\n",
    "Asum = df['A'].apply(abs).sum()\n",
    "Aavg = Asum/len(df)\n",
    "print(\"A =\", Aavg)\n",
    "\n",
    "J = (m/4)*(r**2 + (l**2)/3)\n",
    "print(\"J =\", J)\n",
    "B = (np.pi**2 *J)/(Tau**2)\n",
    "print(\"B =\", B)\n",
    "Hz = unp.sqrt (B/Aavg)\n",
    "print(\"Hz =\", Hz)\n",
    "T =Hz/ 795774.7 \n",
    "print(\"T = {:.8f}\".format(T.nominal_value), \"+/-\", \"{:.8f}\".format(T.std_dev))"
   ]
  }
 ],
 "metadata": {
  "kernelspec": {
   "display_name": "base",
   "language": "python",
   "name": "python3"
  },
  "language_info": {
   "codemirror_mode": {
    "name": "ipython",
    "version": 3
   },
   "file_extension": ".py",
   "mimetype": "text/x-python",
   "name": "python",
   "nbconvert_exporter": "python",
   "pygments_lexer": "ipython3",
   "version": "3.12.4"
  }
 },
 "nbformat": 4,
 "nbformat_minor": 2
}
