{
 "cells": [
  {
   "cell_type": "code",
   "execution_count": 2,
   "metadata": {},
   "outputs": [],
   "source": [
    "import pandas as pd\n",
    "import numpy as np\n",
    "from tqdm import tqdm"
   ]
  },
  {
   "cell_type": "code",
   "execution_count": 13,
   "metadata": {},
   "outputs": [
    {
     "name": "stderr",
     "output_type": "stream",
     "text": [
      "  7%|▋         | 25/373.5 [00:00<00:07, 48.49it/s]"
     ]
    },
    {
     "name": "stdout",
     "output_type": "stream",
     "text": [
      "Column ID: D150_Point_16_x r1 =  119.8+/-0.8 nm r2 =  121.1+/-0.8 nm r3 =  119.5+/-0.8 nm\n",
      "Column ID: D150_Point_17_x r1 =  6.06+/-0.04 nm r2 =  5.096+/-0.033 nm r3 =  5.87+/-0.04 nm\n"
     ]
    },
    {
     "name": "stderr",
     "output_type": "stream",
     "text": [
      " 12%|█▏        | 46/373.5 [00:01<00:08, 39.91it/s]"
     ]
    },
    {
     "name": "stdout",
     "output_type": "stream",
     "text": [
      "Column ID: D150_Point_37_x r1 =  80.6+/-0.5 nm r2 =  69.4+/-0.4 nm r3 =  82.1+/-0.5 nm\n",
      "Column ID: D150_Point_46_x r1 =  38.21+/-0.24 nm r2 =  39.80+/-0.25 nm r3 =  39.28+/-0.25 nm\n"
     ]
    },
    {
     "name": "stderr",
     "output_type": "stream",
     "text": [
      " 17%|█▋        | 63/373.5 [00:01<00:08, 38.47it/s]"
     ]
    },
    {
     "name": "stdout",
     "output_type": "stream",
     "text": [
      "Column ID: D150_Point_64_x r1 =  51.29+/-0.33 nm r2 =  50.36+/-0.32 nm r3 =  49.90+/-0.32 nm\n"
     ]
    },
    {
     "name": "stderr",
     "output_type": "stream",
     "text": [
      " 24%|██▍       | 89/373.5 [00:02<00:11, 24.38it/s]"
     ]
    },
    {
     "name": "stdout",
     "output_type": "stream",
     "text": [
      "Column ID: D150_Point_83_x r1 =  615+/-4 nm r2 =  601+/-4 nm r3 =  640+/-4 nm\n"
     ]
    },
    {
     "name": "stderr",
     "output_type": "stream",
     "text": [
      " 27%|██▋       | 99/373.5 [00:03<00:09, 28.99it/s]"
     ]
    },
    {
     "name": "stdout",
     "output_type": "stream",
     "text": [
      "Column ID: D150_Point_93_x r1 =  15.44+/-0.10 nm r2 =  15.15+/-0.10 nm r3 =  16.19+/-0.10 nm\n"
     ]
    },
    {
     "name": "stderr",
     "output_type": "stream",
     "text": [
      "                                                   \r"
     ]
    }
   ],
   "source": [
    "\n",
    "\n",
    "\n",
    "\n",
    "\n",
    "    "
   ]
  },
  {
   "cell_type": "code",
   "execution_count": 6,
   "metadata": {},
   "outputs": [
    {
     "name": "stdout",
     "output_type": "stream",
     "text": [
      "53.30+/-0.17\n"
     ]
    }
   ],
   "source": [
    "from uncertainties import ufloat\n",
    "\n",
    "r = ufloat(50, 0)\n",
    "p = ufloat(938, 3)\n",
    "\n",
    "px = r/p *1000\n",
    "print(px)\n"
   ]
  }
 ],
 "metadata": {
  "kernelspec": {
   "display_name": "base",
   "language": "python",
   "name": "python3"
  },
  "language_info": {
   "codemirror_mode": {
    "name": "ipython",
    "version": 3
   },
   "file_extension": ".py",
   "mimetype": "text/x-python",
   "name": "python",
   "nbconvert_exporter": "python",
   "pygments_lexer": "ipython3",
   "version": "3.12.4"
  }
 },
 "nbformat": 4,
 "nbformat_minor": 2
}
