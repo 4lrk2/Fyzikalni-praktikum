{
 "cells": [
  {
   "cell_type": "code",
   "execution_count": 2,
   "metadata": {},
   "outputs": [
    {
     "name": "stderr",
     "output_type": "stream",
     "text": []
    },
    {
     "name": "stderr",
     "output_type": "stream",
     "text": [
      "Processing images:   0%|          | 0/18019 [03:22<?, ?it/s]\n"
     ]
    },
    {
     "ename": "KeyboardInterrupt",
     "evalue": "",
     "output_type": "error",
     "traceback": [
      "\u001b[1;31m---------------------------------------------------------------------------\u001b[0m",
      "\u001b[1;31mKeyboardInterrupt\u001b[0m                         Traceback (most recent call last)",
      "Cell \u001b[1;32mIn[2], line 46\u001b[0m\n\u001b[0;32m     43\u001b[0m     progress_bar\u001b[38;5;241m.\u001b[39mclose()\n\u001b[0;32m     45\u001b[0m \u001b[38;5;66;03m# Example usage\u001b[39;00m\n\u001b[1;32m---> 46\u001b[0m subtract_images_in_folder(\u001b[38;5;124m\"\u001b[39m\u001b[38;5;124mCaptures/0\u001b[39m\u001b[38;5;124m\"\u001b[39m, \u001b[38;5;124m\"\u001b[39m\u001b[38;5;124mCaptures/Out/contrast\u001b[39m\u001b[38;5;124m\"\u001b[39m)\n",
      "Cell \u001b[1;32mIn[2], line 28\u001b[0m, in \u001b[0;36msubtract_images_in_folder\u001b[1;34m(folder_path, output_folder_path)\u001b[0m\n\u001b[0;32m     25\u001b[0m     subtracted_image \u001b[38;5;241m=\u001b[39m cv2\u001b[38;5;241m.\u001b[39madd(subtracted_image, cv2\u001b[38;5;241m.\u001b[39msubtract(images[j], images[j \u001b[38;5;241m+\u001b[39m \u001b[38;5;241m1\u001b[39m]))\n\u001b[0;32m     27\u001b[0m \u001b[38;5;66;03m# Denoise the image\u001b[39;00m\n\u001b[1;32m---> 28\u001b[0m denoised_image \u001b[38;5;241m=\u001b[39m cv2\u001b[38;5;241m.\u001b[39mfastNlMeansDenoisingColored(subtracted_image, \u001b[38;5;28;01mNone\u001b[39;00m, h\u001b[38;5;241m=\u001b[39m\u001b[38;5;241m10\u001b[39m, templateWindowSize\u001b[38;5;241m=\u001b[39m\u001b[38;5;241m7\u001b[39m, searchWindowSize\u001b[38;5;241m=\u001b[39m\u001b[38;5;241m21\u001b[39m)\n\u001b[0;32m     30\u001b[0m \u001b[38;5;66;03m# Set contrast to 100\u001b[39;00m\n\u001b[0;32m     31\u001b[0m contrast_image \u001b[38;5;241m=\u001b[39m cv2\u001b[38;5;241m.\u001b[39mconvertScaleAbs(denoised_image, alpha\u001b[38;5;241m=\u001b[39m\u001b[38;5;241m3.0\u001b[39m, beta\u001b[38;5;241m=\u001b[39m\u001b[38;5;241m0\u001b[39m)\n",
      "\u001b[1;31mKeyboardInterrupt\u001b[0m: "
     ]
    }
   ],
   "source": [
    "import cv2\n",
    "import numpy as np\n",
    "from matplotlib import pyplot as plt\n",
    "import os\n",
    "from tqdm import tqdm\n",
    "\n",
    "def subtract_images_in_folder(folder_path, output_folder_path):\n",
    "    # Get list of image files in the folder\n",
    "    image_files = sorted([f for f in os.listdir(folder_path) if f.endswith(('.png', '.jpg', '.jpeg'))])\n",
    "\n",
    "    # Initialize the progress bar\n",
    "    progress_bar = tqdm(total=len(image_files) - 9, desc=\"Processing images\")\n",
    "\n",
    "    for i in range(len(image_files) - 9):\n",
    "        images = [cv2.imread(os.path.join(folder_path, image_files[i + j])) for j in range(10)]\n",
    "        output_path = os.path.join(output_folder_path, f'subtracted_{i}.png')\n",
    "\n",
    "        # Check if images have the same size\n",
    "        if any(image.shape != images[0].shape for image in images):\n",
    "            raise ValueError(f\"All images must have the same dimensions for subtraction.\")\n",
    "\n",
    "        # Subtract the images\n",
    "        subtracted_image = cv2.subtract(images[0], images[1])\n",
    "        for j in range(1, 9):\n",
    "            subtracted_image = cv2.add(subtracted_image, cv2.subtract(images[j], images[j + 1]))\n",
    "\n",
    "        # Denoise the image\n",
    "        denoised_image = cv2.fastNlMeansDenoisingColored(subtracted_image, None, h=10, templateWindowSize=7, searchWindowSize=21)\n",
    "\n",
    "        # Set contrast to 100\n",
    "        contrast_image = cv2.convertScaleAbs(denoised_image, alpha=3.0, beta=0)\n",
    "\n",
    "        # Denoise the image\n",
    "        #denoised_image2 = cv2.fastNlMeansDenoisingColored(contrast_image, None, h=10, templateWindowSize=7, searchWindowSize=21)\n",
    "\n",
    "        # Save the result\n",
    "        cv2.imwrite(output_path, contrast_image)\n",
    "\n",
    "        # Update the progress bar\n",
    "        progress_bar.update(1)\n",
    "\n",
    "    # Close the progress bar\n",
    "    progress_bar.close()\n",
    "\n",
    "# Example usage\n",
    "subtract_images_in_folder(\"Captures/0\", \"Captures/Out/contrast\")"
   ]
  }
 ],
 "metadata": {
  "kernelspec": {
   "display_name": "base",
   "language": "python",
   "name": "python3"
  },
  "language_info": {
   "codemirror_mode": {
    "name": "ipython",
    "version": 3
   },
   "file_extension": ".py",
   "mimetype": "text/x-python",
   "name": "python",
   "nbconvert_exporter": "python",
   "pygments_lexer": "ipython3",
   "version": "3.12.4"
  }
 },
 "nbformat": 4,
 "nbformat_minor": 2
}
