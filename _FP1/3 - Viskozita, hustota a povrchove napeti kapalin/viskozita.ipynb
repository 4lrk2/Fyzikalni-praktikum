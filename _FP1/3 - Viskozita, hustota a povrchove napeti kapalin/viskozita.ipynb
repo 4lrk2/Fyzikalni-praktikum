{
 "cells": [
  {
   "cell_type": "code",
   "execution_count": 1,
   "metadata": {},
   "outputs": [],
   "source": [
    "from uncertainties import *\n",
    "import numpy as np\n"
   ]
  },
  {
   "cell_type": "code",
   "execution_count": 16,
   "metadata": {},
   "outputs": [
    {
     "name": "stdout",
     "output_type": "stream",
     "text": [
      "1.008+/-0.007\n",
      "0.825+/-0.005\n",
      "0.668+/-0.004\n"
     ]
    }
   ],
   "source": [
    "K = ufloat(1.063 *10**(-3), 6.9095*10**(-6))\n",
    "\n",
    "# eta = K t\n",
    "\n",
    "# Define the array of ufloat values for t\n",
    "t_array = np.array([ufloat(947.9, 0.1), ufloat(776.4, 0.1), ufloat(628.3, 0.1)])\n",
    "\n",
    "# Calculate nu for every t\n",
    "nu_array = K * t_array\n",
    "\n",
    "# Print the nu values\n",
    "for nu in nu_array:\n",
    "    print(nu)\n"
   ]
  },
  {
   "cell_type": "code",
   "execution_count": 35,
   "metadata": {},
   "outputs": [
    {
     "name": "stdout",
     "output_type": "stream",
     "text": [
      "1.185+/-0.009\n"
     ]
    }
   ],
   "source": [
    "#Mariott\n",
    "\n",
    "h1 = ufloat(16.17, 0.006)\n",
    "h2 = ufloat(16.20, 0.006)\n",
    "h3 = ufloat(16.20, 0.006)\n",
    "\n",
    "d1 = ufloat(5.0, 0.006)\n",
    "d2 = ufloat(4.98, 0.006)\n",
    "d3 = ufloat(4.99, 0.006)\n",
    "#vše v kg, m\n",
    "R = ufloat(0.570e-3, 0.001e-3)\n",
    "h = (h1+h2+h3 - d1 -d2 -d3)/300\n",
    "m = ufloat(74.190e-3, 0.003e-3)\n",
    "L = ufloat(16.5e-2, 0.05e-2)\n",
    "t = ufloat(319.86, 0.3)\n",
    "rho = ufloat(0.9982e3, 0)\t\n",
    "g = ufloat(9.81, 0)\n",
    "\n",
    "\n",
    "eta = ((np.pi * rho**2 *R**4 * g * h*t)/(8 * m * L))\n",
    "print(eta*1000)\n"
   ]
  },
  {
   "cell_type": "code",
   "execution_count": 40,
   "metadata": {},
   "outputs": [
    {
     "name": "stdout",
     "output_type": "stream",
     "text": [
      "50.174+/-0.004 40.202+/-0.004\n",
      "800.04+/-0.08\n"
     ]
    }
   ],
   "source": [
    "#hustota-pyknometr-metoda\n",
    "\n",
    "mp = ufloat(23.868, 0.003)\n",
    "mk = ufloat(74.042, 0.003)\n",
    "m = ufloat(64.070, 0.003)\n",
    "\n",
    "mk = mk - mp\n",
    "m = m - mp\n",
    "print (mk, m)\n",
    "rhok = ufloat(0.9982, 0)\n",
    "rhov = ufloat(0.001157, 0)\n",
    "\n",
    "rho = (rhok - rhov) * ((m )/(mk)) + rhov\n",
    "print(rho*1000)"
   ]
  },
  {
   "cell_type": "code",
   "execution_count": 41,
   "metadata": {},
   "outputs": [
    {
     "name": "stdout",
     "output_type": "stream",
     "text": [
      "793.7+/-0.8\n"
     ]
    }
   ],
   "source": [
    "#hustota-ponorna metoda\n",
    "m = ufloat(3.828, 0.003)\n",
    "mk = ufloat(4.814, 0.003)\n",
    "rhok = ufloat(0.9982, 0)\n",
    "\n",
    "rho = m/mk * rhok\n",
    "print(rho*1000)"
   ]
  },
  {
   "cell_type": "code",
   "execution_count": 51,
   "metadata": {},
   "outputs": [
    {
     "name": "stdout",
     "output_type": "stream",
     "text": [
      "24.1+/-0.4\n",
      "71.6+/-0.7\n"
     ]
    }
   ],
   "source": [
    "#Viskosita - krouzek\n",
    "\n",
    "Flih = ufloat(11.42, 0.19)\n",
    "Fvoda = ufloat(33.87, 0.34)\n",
    "R = ufloat (58.0, 0.1)\n",
    "\n",
    "sigmalih = (Flih/(2*np.pi*R)) * 0.77\n",
    "print(sigmalih*1000)\n",
    "sigmavoda = Fvoda/(2*np.pi*R) * 0.77\n",
    "print(sigmavoda*1000)"
   ]
  },
  {
   "cell_type": "code",
   "execution_count": null,
   "metadata": {},
   "outputs": [],
   "source": []
  }
 ],
 "metadata": {
  "kernelspec": {
   "display_name": "Python 3",
   "language": "python",
   "name": "python3"
  },
  "language_info": {
   "codemirror_mode": {
    "name": "ipython",
    "version": 3
   },
   "file_extension": ".py",
   "mimetype": "text/x-python",
   "name": "python",
   "nbconvert_exporter": "python",
   "pygments_lexer": "ipython3",
   "version": "3.12.3"
  }
 },
 "nbformat": 4,
 "nbformat_minor": 2
}
