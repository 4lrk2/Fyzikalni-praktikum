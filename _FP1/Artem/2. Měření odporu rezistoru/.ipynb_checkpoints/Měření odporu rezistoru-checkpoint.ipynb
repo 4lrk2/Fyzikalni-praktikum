{
 "cells": [
  {
   "cell_type": "code",
   "execution_count": 1,
   "metadata": {},
   "outputs": [],
   "source": [
    "#Importing libraries\n",
    "\n",
    "import pandas as pd\n",
    "import matplotlib.pyplot as plt\n",
    "import numpy as np\n",
    "import uncertainties as u\n",
    "from matplotlib.ticker import AutoMinorLocator\n",
    "from matplotlib import gridspec\n",
    "from scipy.interpolate import interp1d\n",
    "from uncertainties import *"
   ]
  },
  {
   "cell_type": "code",
   "execution_count": 2,
   "metadata": {},
   "outputs": [],
   "source": [
    "#Reading data \n",
    "\n",
    "A = pd.read_csv('data/Metod A.csv')\n",
    "B = pd.read_csv('data/Metod B.csv')"
   ]
  },
  {
   "cell_type": "code",
   "execution_count": 3,
   "metadata": {},
   "outputs": [],
   "source": [
    "#Constants and values\n",
    "#NEJISTOTY VŽDY ZAPISUJEME DVAKRÁT VĚTŠÍ!!!!!\n",
    "U_1_A = ufloat(18.950, 0.002)\n",
    "I_1_A = ufloat(191.3, 1.5)\n",
    "#Metoda A, rezistor 1\n",
    "U_2_A = ufloat(19.780, 0.003)\n",
    "I_2_A = ufloat(3*10**(-2), 1*10**(-2))\n",
    "#Metoda A, rezistor 2\n",
    "\n",
    "U_1_B = ufloat(20.125, 0.003)\n",
    "I_1_B = ufloat(192.7, 1.5)\n",
    "#Metoda B, rezistor 1\n",
    "U_2_B = ufloat(20.135, 0.003)\n",
    "I_2_B = ufloat(3*10**(-2), 1*10**(-2))\n",
    "#Metoda B, rezistor 2\n",
    "\n",
    "R_V = ufloat(10.1*10**6, 0)\n",
    "R_A = ufloat(5.3, 0)"
   ]
  },
  {
   "cell_type": "code",
   "execution_count": 4,
   "metadata": {},
   "outputs": [
    {
     "name": "stdout",
     "output_type": "stream",
     "text": [
      "R1A =  99.1+/-0.8\n",
      "R1A - korekce=  99.1+/-0.8\n",
      "R2A =  (6.6+/-2.2)e+05\n",
      "R2A - korekce =  (7.1+/-2.5)e+05\n",
      "R1B =  104.4+/-0.8\n",
      "R1B - korekce =  99.1+/-0.8\n",
      "R2B =  (6.7+/-2.2)e+05\n",
      "R2B - korekce =  (6.7+/-2.2)e+05\n"
     ]
    }
   ],
   "source": [
    "#Calculations\n",
    "\n",
    "I_1_A = I_1_A * 10**(-3)\n",
    "I_2_A = I_2_A * 10**(-3)\n",
    "I_1_B = I_1_B * 10**(-3)\n",
    "I_2_B = I_2_B * 10**(-3)\n",
    "#převod z mA na A\n",
    "\n",
    "R_1_A = U_1_A / I_1_A\n",
    "print(\"R1A = \",R_1_A)\n",
    "R_1_A_correct = U_1_A / (I_1_A - (U_1_A / R_V))\n",
    "print(\"R1A - korekce= \", R_1_A_correct)\n",
    "\n",
    "R_2_A = U_2_A / I_2_A\n",
    "print(\"R2A = \",R_2_A)\n",
    "R_2_A_correct = U_2_A / (I_2_A - (U_2_A / R_V))\n",
    "print(\"R2A - korekce = \",R_2_A_correct)\n",
    "\n",
    "R_1_B = U_1_B / I_1_B\n",
    "print(\"R1B = \",R_1_B)\n",
    "R_1_B_correct = (U_1_B / I_1_B) - R_A\n",
    "print(\"R1B - korekce = \",R_1_B_correct)\n",
    "\n",
    "R_2_B = U_2_B / I_2_B\n",
    "print(\"R2B = \",R_2_B)\n",
    "R_2_B_correct = (U_2_B / I_2_B) - R_A\n",
    "print(\"R2B - korekce = \",R_2_B_correct)"
   ]
  },
  {
   "cell_type": "code",
   "execution_count": null,
   "metadata": {},
   "outputs": [],
   "source": []
  }
 ],
 "metadata": {
  "kernelspec": {
   "display_name": "Python 3 (ipykernel)",
   "language": "python",
   "name": "python3"
  },
  "language_info": {
   "codemirror_mode": {
    "name": "ipython",
    "version": 3
   },
   "file_extension": ".py",
   "mimetype": "text/x-python",
   "name": "python",
   "nbconvert_exporter": "python",
   "pygments_lexer": "ipython3",
   "version": "3.12.2"
  }
 },
 "nbformat": 4,
 "nbformat_minor": 4
}
