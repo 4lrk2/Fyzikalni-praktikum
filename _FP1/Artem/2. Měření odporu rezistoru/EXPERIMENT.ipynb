{
 "cells": [
  {
   "cell_type": "code",
   "execution_count": 1,
   "metadata": {},
   "outputs": [],
   "source": [
    "from uncertainties import ufloat\n",
    "R_V = ufloat(10.1*10**6, 0)\n",
    "R_A = ufloat(5.3, 0)\n",
    "U_1_A = ufloat(18.950, 0.007)\n",
    "I_1_A = ufloat(0.1913, 0.0016)\n",
    "#Metoda A, rezistor 1\n",
    "U_2_A = ufloat(19.780, 0.007)\n",
    "I_2_A = ufloat(3*10**(-5), 1*10**(-5))\n",
    "#Metoda A, rezistor 2\n",
    "\n",
    "U_1_B = ufloat(20.125, 0.007)\n",
    "I_1_B = ufloat(0.1927, 0.0016)\n",
    "#Metoda B, rezistor 1\n",
    "U_2_B = ufloat(20.135, 0.007)\n",
    "I_2_B = ufloat(3*10**(-5), 1*10**(-5))\n",
    "#Metoda B, rezistor 2\n",
    "\t\t\n",
    "\t\t"
   ]
  },
  {
   "cell_type": "code",
   "execution_count": 2,
   "metadata": {},
   "outputs": [
    {
     "name": "stdout",
     "output_type": "stream",
     "text": [
      "R1A =  99.05907+/-0.82932\n",
      "R1A - korekce=  99.06004+/-0.82934\n",
      "R2A =  (6.5933+/-2.1978)e+05\n",
      "R2A - korekce =  (7.0538+/-2.5155)e+05\n",
      "R1B =  104.43695+/-0.86791\n",
      "R1B - korekce =  99.13695+/-0.86791\n",
      "R2B =  (6.7117+/-2.2372)e+05\n",
      "R2B - korekce =  (6.7116+/-2.2372)e+05\n"
     ]
    }
   ],
   "source": [
    "R_1_A = U_1_A / I_1_A\n",
    "print(\"R1A = \",'{:.5u}'.format(R_1_A))\n",
    "R_1_A_kor = U_1_A / (I_1_A - (U_1_A / R_V))\n",
    "print(\"R1A - korekce= \", '{:.5u}'.format(R_1_A_kor))\n",
    "\n",
    "R_2_A = U_2_A / I_2_A\n",
    "print(\"R2A = \",'{:.5u}'.format(R_2_A))\n",
    "R_2_A_kor = U_2_A / (I_2_A - (U_2_A / R_V))\n",
    "print(\"R2A - korekce = \",'{:.5u}'.format(R_2_A_kor))\n",
    "\n",
    "R_1_B = U_1_B / I_1_B\n",
    "print(\"R1B = \",'{:.5u}'.format(R_1_B))\n",
    "R_1_B_kor = (U_1_B / I_1_B) - R_A\n",
    "print(\"R1B - korekce = \",'{:.5u}'.format(R_1_B_kor))\n",
    "\n",
    "R_2_B = U_2_B / I_2_B\n",
    "print(\"R2B = \",'{:.5u}'.format(R_2_B))\n",
    "R_2_B_kor = (U_2_B / I_2_B) - R_A\n",
    "print(\"R2B - korekce = \",'{:.5u}'.format(R_2_B_kor))"
   ]
  },
  {
   "cell_type": "code",
   "execution_count": null,
   "metadata": {},
   "outputs": [],
   "source": []
  }
 ],
 "metadata": {
  "kernelspec": {
   "display_name": "Python 3 (ipykernel)",
   "language": "python",
   "name": "python3"
  },
  "language_info": {
   "codemirror_mode": {
    "name": "ipython",
    "version": 3
   },
   "file_extension": ".py",
   "mimetype": "text/x-python",
   "name": "python",
   "nbconvert_exporter": "python",
   "pygments_lexer": "ipython3",
   "version": "3.12.2"
  }
 },
 "nbformat": 4,
 "nbformat_minor": 4
}
