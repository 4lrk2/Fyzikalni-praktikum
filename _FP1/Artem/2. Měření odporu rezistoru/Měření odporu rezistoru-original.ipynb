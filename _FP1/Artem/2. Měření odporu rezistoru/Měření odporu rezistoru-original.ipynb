{
 "cells": [
  {
   "cell_type": "code",
   "execution_count": 1,
   "metadata": {},
   "outputs": [],
   "source": [
    "#Importing libraries\n",
    "\n",
    "import pandas as pd\n",
    "import matplotlib.pyplot as plt\n",
    "import numpy as np\n",
    "import unc\n",
    "from matplotlib.ticker import AutoMinorLocator\n",
    "from matplotlib import gridspec\n",
    "from scipy.interpolate import interp1d\n",
    "from uncertainties import *"
   ]
  },
  {
   "cell_type": "code",
   "execution_count": 2,
   "metadata": {},
   "outputs": [],
   "source": [
    "#Reading data \n",
    "\n",
    "A = pd.read_csv('data/Metod A.csv')\n",
    "B = pd.read_csv('data/Metod B.csv')"
   ]
  },
  {
   "cell_type": "code",
   "execution_count": 3,
   "metadata": {},
   "outputs": [],
   "source": [
    "#Constants and values\n",
    "\n",
    "U_1_A = ufloat(5.35, 0.007)\n",
    "U_2_A = ufloat(19.31, 0.08)\n",
    "I_1_A = ufloat(54.5, 0.09)\n",
    "I_2_A = ufloat(21*10**(-3), 0.08*10**(-3))\n",
    "\n",
    "U_1_B = ufloat(5.31, 0.007)\n",
    "U_2_B = ufloat(17.78, 0.08)\n",
    "I_1_B = ufloat(53.0, 0.09)\n",
    "I_2_B = ufloat(17*10**(-3), 0.08*10**(-3))\n",
    "\n",
    "R_V = ufloat(10**7, 0)\n",
    "R_A = ufloat(1, 0)"
   ]
  },
  {
   "cell_type": "code",
   "execution_count": 4,
   "metadata": {},
   "outputs": [
    {
     "name": "stdout",
     "output_type": "stream",
     "text": [
      "98.17+/-0.21\n",
      "98.17+/-0.21\n",
      "(9.20+/-0.05)e+05\n",
      "(1.013+/-0.006)e+06\n",
      "100.19+/-0.22\n",
      "99.19+/-0.22\n",
      "(1.046+/-0.007)e+06\n",
      "(1.046+/-0.007)e+06\n"
     ]
    }
   ],
   "source": [
    "#Calculations\n",
    "\n",
    "I_1_A = I_1_A * 10**(-3)\n",
    "I_2_A = I_2_A * 10**(-3)\n",
    "I_1_B = I_1_B * 10**(-3)\n",
    "I_2_B = I_2_B * 10**(-3)\n",
    "\n",
    "R_1_A = U_1_A / I_1_A\n",
    "print(R_1_A)\n",
    "R_1_A_correct = U_1_A / (I_1_A - (U_1_A / R_V))\n",
    "print(R_1_A_correct)\n",
    "\n",
    "R_2_A = U_2_A / I_2_A\n",
    "print(R_2_A)\n",
    "R_2_A_correct = U_2_A / (I_2_A - (U_2_A / R_V))\n",
    "print(R_2_A_correct)\n",
    "\n",
    "R_1_B = U_1_B / I_1_B\n",
    "print(R_1_B)\n",
    "R_1_B_correct = (U_1_B / I_1_B) - R_A\n",
    "print(R_1_B_correct)\n",
    "\n",
    "R_2_B = U_2_B / I_2_B\n",
    "print(R_2_B)\n",
    "R_2_B_correct = (U_2_B / I_2_B) - R_A\n",
    "print(R_2_B_correct)"
   ]
  }
 ],
 "metadata": {
  "kernelspec": {
   "display_name": "Python 3 (ipykernel)",
   "language": "python",
   "name": "python3"
  },
  "language_info": {
   "codemirror_mode": {
    "name": "ipython",
    "version": 3
   },
   "file_extension": ".py",
   "mimetype": "text/x-python",
   "name": "python",
   "nbconvert_exporter": "python",
   "pygments_lexer": "ipython3",
   "version": "3.12.2"
  }
 },
 "nbformat": 4,
 "nbformat_minor": 4
}
