{
 "cells": [
  {
   "cell_type": "code",
   "execution_count": 1,
   "metadata": {},
   "outputs": [],
   "source": [
    "#Importing libraries\n",
    "\n",
    "import pandas as pd\n",
    "import numpy as np\n",
    "from uncertainties import *\n",
    "from scipy import interpolate, integrate"
   ]
  },
  {
   "cell_type": "code",
   "execution_count": 2,
   "metadata": {},
   "outputs": [
    {
     "name": "stdout",
     "output_type": "stream",
     "text": [
      "      h1    h2\n",
      "0  302.0  74.0\n",
      "1  272.0  70.0\n",
      "2  310.0  80.0\n",
      "3  375.0  95.0\n",
      "4  292.0  73.0\n",
      "5  337.0  86.0\n",
      "6  314.0  79.0\n",
      "7  328.0  82.0\n",
      "8  330.0  81.0\n",
      "9  371.0  94.0\n"
     ]
    }
   ],
   "source": [
    "#Reading data\n",
    "\n",
    "c1 = pd.read_csv('data/c1.csv')\n",
    "c2 = pd.read_csv('data/c2.csv')\n",
    "c3 = pd.read_csv('data/c3.csv')\n",
    "print (c1)"
   ]
  },
  {
   "cell_type": "code",
   "execution_count": 3,
   "metadata": {},
   "outputs": [],
   "source": [
    "#Constants and values\n",
    "\n",
    "rho_1 = ufloat(997, 0)\n",
    "g = ufloat(9.809980, 0)\n",
    "p_0 = ufloat(97279.3, 0)\n",
    "\n",
    "l_1 = ufloat(26.8, 0.1)\n",
    "l_2 = ufloat(20.4, 0.1)\n",
    "l_3 = ufloat(15.7, 0.4)\n",
    "\n",
    "f_1 = ufloat(638.48, 0.1)\n",
    "f_2 = ufloat(843.55, 0.1)\n",
    "f_3 = ufloat(1067.56, 0.1)\n",
    "\n",
    "rho_2 = ufloat(1.1564, 0)\n",
    "\n",
    "I_0 = 4.05"
   ]
  },
  {
   "cell_type": "code",
   "execution_count": 4,
   "metadata": {},
   "outputs": [
    {
     "name": "stdout",
     "output_type": "stream",
     "text": [
      "c pro 1000 = 344.6066+/-3.4959\n",
      "c pro 1600 = 341.9515+/-3.4710\n",
      "c pro 1984 = 344.0776+/-3.4631\n",
      "c pro 2200 = 342.4939+/-3.6774\n",
      "k pro 1000 = 1.404+/-0.028\n",
      "k pro 1600 = 1.382+/-0.028\n",
      "k pro 1984 = 1.399+/-0.028\n",
      "k pro 2200 = 1.386+/-0.030\n"
     ]
    }
   ],
   "source": [
    "#Calculations\n",
    "\n",
    "p = ufloat (99398.8,0)\n",
    "rho = ufloat (1.1748,0)\n",
    "d1 = ufloat (17.22,0.03)\n",
    "d2 = ufloat (10.66,0.02)\n",
    "d3 = ufloat (8.67,0.01)\n",
    "d4 = ufloat (7.66,0.03)\n",
    "f1= ufloat (1000.6,10)\n",
    "f2= ufloat (1603.9,16)\n",
    "f3= ufloat (1984.3,19.84)\n",
    "f4= ufloat (2235.6,22.35)\n",
    "print (\"c pro 1000 =\", '{:.5u}'.format(2*d1*f1/100))\n",
    "print (\"c pro 1600 =\", '{:.5u}'.format(2*d2*f2/100))\n",
    "print (\"c pro 1984 =\", '{:.5u}'.format(2*d3*f3/100))\n",
    "print (\"c pro 2200 =\", '{:.5u}'.format(2*d4*f4/100))\n",
    "print (\"k pro 1000 =\", (2*d1*f1/100)**2 * rho /p)\n",
    "print (\"k pro 1600 =\", (2*d2*f2/100)**2 * rho /p)\n",
    "print (\"k pro 1984 =\", (2*d3*f3/100)**2 * rho/p)\n",
    "print (\"k pro 2200 =\", (2*d4*f4/100)**2 * rho/p)"
   ]
  },
  {
   "cell_type": "code",
   "execution_count": null,
   "metadata": {},
   "outputs": [],
   "source": []
  }
 ],
 "metadata": {
  "kernelspec": {
   "display_name": "Python 3 (ipykernel)",
   "language": "python",
   "name": "python3"
  },
  "language_info": {
   "codemirror_mode": {
    "name": "ipython",
    "version": 3
   },
   "file_extension": ".py",
   "mimetype": "text/x-python",
   "name": "python",
   "nbconvert_exporter": "python",
   "pygments_lexer": "ipython3",
   "version": "3.12.2"
  }
 },
 "nbformat": 4,
 "nbformat_minor": 4
}
