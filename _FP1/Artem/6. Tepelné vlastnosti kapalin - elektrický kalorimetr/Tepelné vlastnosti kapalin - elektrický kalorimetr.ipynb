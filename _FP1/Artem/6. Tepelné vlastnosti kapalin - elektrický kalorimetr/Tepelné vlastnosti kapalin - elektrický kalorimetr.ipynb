{
 "cells": [
  {
   "cell_type": "code",
   "execution_count": 1,
   "metadata": {},
   "outputs": [],
   "source": [
    "#Importing libraries\n",
    "\n",
    "from uncertainties import *"
   ]
  },
  {
   "cell_type": "code",
   "execution_count": 2,
   "metadata": {},
   "outputs": [],
   "source": [
    "#Constants and values\n",
    "m_S = ufloat(0.1991, 0.001) \n",
    "m_T = ufloat(0.2003, 0.001) \n",
    "t_S = ufloat(18.224, 0.03)\n",
    "t_T = ufloat(42.115, 0.03)\n",
    "t = ufloat(28.733, 0.03)\n",
    "c = ufloat(4185, 0)\n",
    "\n",
    "m = ufloat(0.4006, 0.001)\n",
    "tau = ufloat(888.8, 0.03)\n",
    "P = ufloat(30.2, 0)\n",
    "tp = ufloat(13.829154,0.03)\n",
    "tk = ufloat (27.742107,0.03)\n",
    "dt = tk-tp"
   ]
  },
  {
   "cell_type": "code",
   "execution_count": 3,
   "metadata": {},
   "outputs": [
    {
     "name": "stdout",
     "output_type": "stream",
     "text": [
      "k = 0.0560+/-0.0019\n",
      "integral vysel:  (0+/-5)e+01\n",
      "K = 234+/-8\n",
      "(2.658+/-0.015)e+04 = 26841.8+/-0.9\n",
      "(-2.6+/-1.5)e+02\n",
      "Qs =  (2.6+/-1.5)e+02\n",
      "Tepelna kapacita se zohlednenim ztrat: 4231+/-28\n",
      "Tepelna kapacita bez zohledneni ztrat: 4231+/-27\n",
      "4231+/-27\n"
     ]
    }
   ],
   "source": [
    "#Calculations 2\n",
    "\n",
    "\n",
    "k = ((m_T*(t_T-t))/(t-t_S)) - m_S\n",
    "print(\"k =\" , k)\n",
    "a0 = ufloat (-7.354506330786934, 6.924460604164178e-03)\n",
    "a1 = ufloat (1.853854380620621e-02 , 6.452079663678651e-05)\n",
    "a2 = ufloat (-4.399822915803733e-06 , 1.610455136492223e-07)\n",
    "a3 = ufloat (1.469388954770969e-09 , 1.134485109611080e-10)\n",
    "x1 = ufloat (1.2,0.03)\n",
    "x2 = ufloat (890,0.03)\n",
    "\n",
    "i = (a0 * x2 + a1* (x2**2 /2) + a2 * (x2**3 /3) + a3 * (x2**4/4)) - (a0 *x1 + a1* (x1**2 /2) + a2 * (x1**3 /3) + a3 * (x1**4/4))\n",
    "print (\"integral vysel: \", i)\n",
    "K = k * c\n",
    "print(\"K =\", K)\n",
    "\n",
    "print((m*c + K)*dt ,'=', P*tau)\n",
    "print((m*c + K)*dt - P*tau) \n",
    "print(\"Qs = \", P*tau - (m*c + K)*(tk-tp))\n",
    "print(\"Tepelna kapacita se zohlednenim ztrat:\",(((P*tau - i)/dt)-K)/m)\n",
    "print(\"Tepelna kapacita bez zohledneni ztrat:\",(((P*tau )/dt)-K)/m)\n",
    "\n",
    "\n",
    "c_2 = (((P*tau)/(dt)) - K)/m\n",
    "print(c_2)"
   ]
  }
 ],
 "metadata": {
  "kernelspec": {
   "display_name": "Python 3 (ipykernel)",
   "language": "python",
   "name": "python3"
  },
  "language_info": {
   "codemirror_mode": {
    "name": "ipython",
    "version": 3
   },
   "file_extension": ".py",
   "mimetype": "text/x-python",
   "name": "python",
   "nbconvert_exporter": "python",
   "pygments_lexer": "ipython3",
   "version": "3.12.2"
  }
 },
 "nbformat": 4,
 "nbformat_minor": 4
}
