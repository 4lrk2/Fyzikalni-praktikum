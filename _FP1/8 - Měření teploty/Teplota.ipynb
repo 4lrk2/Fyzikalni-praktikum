{
 "cells": [
  {
   "cell_type": "code",
   "execution_count": 10,
   "id": "72199ed2-1a85-4a29-b3c9-435062eff0f2",
   "metadata": {},
   "outputs": [
    {
     "name": "stdout",
     "output_type": "stream",
     "text": [
      "ALPHA 1 =  0.00617+/-0.00006\n",
      "ALPHA 2 =  0.003776+/-0.000016\n"
     ]
    }
   ],
   "source": [
    "from uncertainties import *\n",
    "\n",
    "A1 = ufloat (6.085724233265998, 0.05409364786533072)\n",
    "B1 = ufloat (9.857527874770944e+02,2.831208251591156e+00)\n",
    "A2 = ufloat (3.809856743091279e+00, 1.558666654849203e-02)\n",
    "B2 = ufloat (1.009015851819190e+03, 8.157907755962853e-01)\n",
    "print(\"ALPHA 1 = \", A1/B1)\n",
    "print(\"ALPHA 2 = \", A2/B2)\n",
    "\n"
   ]
  },
  {
   "cell_type": "code",
   "execution_count": null,
   "id": "6b24b6a2-fec7-430c-870c-4d74d2c1ca1e",
   "metadata": {},
   "outputs": [],
   "source": []
  },
  {
   "cell_type": "code",
   "execution_count": null,
   "id": "da40bb32-7f16-45b3-a199-e6a5f99da26f",
   "metadata": {},
   "outputs": [],
   "source": []
  }
 ],
 "metadata": {
  "kernelspec": {
   "display_name": "Python 3 (ipykernel)",
   "language": "python",
   "name": "python3"
  },
  "language_info": {
   "codemirror_mode": {
    "name": "ipython",
    "version": 3
   },
   "file_extension": ".py",
   "mimetype": "text/x-python",
   "name": "python",
   "nbconvert_exporter": "python",
   "pygments_lexer": "ipython3",
   "version": "3.12.2"
  }
 },
 "nbformat": 4,
 "nbformat_minor": 5
}
