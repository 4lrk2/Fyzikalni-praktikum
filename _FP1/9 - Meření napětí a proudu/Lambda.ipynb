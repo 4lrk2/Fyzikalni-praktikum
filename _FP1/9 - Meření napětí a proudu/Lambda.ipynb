{
 "cells": [
  {
   "cell_type": "code",
   "execution_count": 1,
   "id": "13ee11f5-88ea-41f8-8247-943da9613084",
   "metadata": {},
   "outputs": [],
   "source": [
    "import numpy \n",
    "from uncertainties import *\n"
   ]
  },
  {
   "cell_type": "code",
   "execution_count": 7,
   "id": "123b9bbe-b5af-4c13-abd3-0a396fc074f7",
   "metadata": {},
   "outputs": [
    {
     "name": "stdout",
     "output_type": "stream",
     "text": [
      "UERR 0.0033333333333333335\n",
      "UDIG 2.0\n",
      "Nejistoty napeti: [2.000603933333333, 2.0008133333333333, 2.00095, 2.00101, 2.0011133333333335]\n",
      "U1 = 0.2+/-2.0\n",
      "U2 = 0.2+/-2.0\n",
      "U3 = 0.3+/-2.0\n",
      "U4 = 0.3+/-2.0\n",
      "U5 = 0.3+/-2.0\n"
     ]
    }
   ],
   "source": [
    "R = ufloat (10.1e6, 0)\n",
    "\n",
    "\n",
    "\n",
    "def calc(n, rel, dig):\n",
    "    calcdone = []\n",
    "    for value in n:\n",
    "        calc_value = float(value) * rel + dig \n",
    "        calcdone.append(calc_value)\n",
    "    return calcdone\n",
    "    \n",
    "\n",
    "# Pro voltmetr:\n",
    "u = [0.18118, 0.244, 0.285, 0.303, 0.334]\n",
    "nejistota = input(\"Zadej nejistotu v procentech: \")\n",
    "digits = input(\"Zadej pocet digits: \")\n",
    "resolution = input(\"Zadej nejmensi dilek v absolutni hodnote (voltech): \")\n",
    "# UERR = (0.00007) #nejistota od vyrobce, NE V PROCENTECH, ABSOLUTNE - priklad: zde je udavana 0.05%\n",
    "#UDIG = (0.0013) #cast \"digits\" vynasobena rozslisenim \n",
    "UERR = (float(nejistota)/300)\n",
    "UDIG = ((float(digits)*float(resolution))/3)\n",
    "print(\"UERR\", UERR)\n",
    "print(\"UDIG\", UDIG)\n",
    "\n",
    "#pro ampermetr:\n",
    "i = [1.021, 1.382,1.617,1.721,1.900]\n",
    "IERR = (0.001)\n",
    "IDIG = (0.001)\n",
    "\n",
    "\n",
    "calcdone = calc(u, UERR,UDIG)\n",
    "\n",
    "print(\"Nejistoty napeti:\", calcdone)\n",
    "u1, u2, u3, u4, u5 = [ufloat(x, y) for x, y in zip(u, calcdone)]\n",
    "uF = [ufloat(x, y) for x, y in zip(u, calcdone)]\n",
    "\n",
    "print (\"U1 =\", u1)\n",
    "\n",
    "print (\"U2 =\", u2)\n",
    "print (\"U3 =\", u3)\n",
    "print (\"U4 =\", u4)\n",
    "print (\"U5 =\", u5)\n",
    "\n",
    "\n"
   ]
  },
  {
   "cell_type": "code",
   "execution_count": null,
   "id": "c91e9560-4058-45c5-bb9c-38ec9aedaf0a",
   "metadata": {},
   "outputs": [],
   "source": []
  }
 ],
 "metadata": {
  "kernelspec": {
   "display_name": "Python 3 (ipykernel)",
   "language": "python",
   "name": "python3"
  },
  "language_info": {
   "codemirror_mode": {
    "name": "ipython",
    "version": 3
   },
   "file_extension": ".py",
   "mimetype": "text/x-python",
   "name": "python",
   "nbconvert_exporter": "python",
   "pygments_lexer": "ipython3",
   "version": "3.12.3"
  }
 },
 "nbformat": 4,
 "nbformat_minor": 5
}
