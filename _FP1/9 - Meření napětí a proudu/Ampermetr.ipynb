{
 "cells": [
  {
   "cell_type": "code",
   "execution_count": 2,
   "metadata": {},
   "outputs": [],
   "source": [
    "import numpy \n",
    "from uncertainties import *\n"
   ]
  },
  {
   "cell_type": "code",
   "execution_count": 12,
   "metadata": {},
   "outputs": [
    {
     "name": "stdout",
     "output_type": "stream",
     "text": [
      "UERR 6.666666666666667e-05\n",
      "UDIG 1.3333333333333335e-05\n",
      "U1 = 2.3977333333333335e-05\n",
      "R = 1597+/-24\n",
      "Ro1 = 399+/-6\n",
      "Ro2 = 177.4+/-2.7\n",
      "Ro3 = 84.0+/-1.3\n",
      "\n",
      "Ro1 = 48403+/-24\n",
      "Ro2 = 98403+/-24\n"
     ]
    }
   ],
   "source": [
    "R = ufloat (10.1e6, 0)\n",
    "\n",
    "\n",
    "\n",
    "def calc(n, rel, dig):\n",
    "    calcdone = []\n",
    "    for value in n:\n",
    "        calc_value = float(value) * rel + dig \n",
    "        calcdone.append(calc_value)\n",
    "    return calcdone\n",
    "    \n",
    "\n",
    "# Pro voltmetr:\n",
    "u = (0.15966)\n",
    "nejistota = (0.02)\n",
    "digits = (4)\n",
    "resolution =  (0.00001)\n",
    "# UERR = (0.00007) #nejistota od vyrobce, NE V PROCENTECH, ABSOLUTNE - priklad: zde je udavana 0.05%\n",
    "#UDIG = (0.0013) #cast \"digits\" vynasobena rozslisenim \n",
    "UERR = (float(nejistota)/300)\n",
    "UDIG = ((float(digits)*float(resolution))/3)\n",
    "print(\"UERR\", UERR)\n",
    "print(\"UDIG\", UDIG)\n",
    "\n",
    "\n",
    "u1= u *UERR + UDIG\n",
    "\n",
    "u2 = ufloat(u, u1)\n",
    "\n",
    "print (\"U1 =\", u1)\n",
    "u1 = ufloat\n",
    "Ia = ufloat(0.0001, 0.0000015)\n",
    "\n",
    "R = u2 / Ia \n",
    "print (\"R =\", R)\n",
    "\n",
    "Ro1 = R / (5-1)\n",
    "print (\"Ro1 =\", Ro1)\n",
    "Ro2 = R / (10-1)\n",
    "print (\"Ro2 =\", Ro2)\n",
    "ro3 = R / (20-1)\n",
    "print (\"Ro3 =\", ro3)\n",
    "\n",
    "print ()\n",
    "# změna rozsahu voltmetru:\n",
    "u1 = 5\n",
    "u2 = 10\n",
    "Im = 0.0001\n",
    "\n",
    "Ro1 = u1/Im - R\n",
    "print (\"Ro1 =\", Ro1)\n",
    "Ro2 = u2/Im - R\n",
    "print (\"Ro2 =\", Ro2)\n"
   ]
  }
 ],
 "metadata": {
  "kernelspec": {
   "display_name": "Python 3",
   "language": "python",
   "name": "python3"
  },
  "language_info": {
   "codemirror_mode": {
    "name": "ipython",
    "version": 3
   },
   "file_extension": ".py",
   "mimetype": "text/x-python",
   "name": "python",
   "nbconvert_exporter": "python",
   "pygments_lexer": "ipython3",
   "version": "3.12.3"
  }
 },
 "nbformat": 4,
 "nbformat_minor": 2
}
