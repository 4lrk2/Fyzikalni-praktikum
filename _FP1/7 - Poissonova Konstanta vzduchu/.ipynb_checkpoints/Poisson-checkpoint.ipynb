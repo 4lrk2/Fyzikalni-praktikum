{
 "cells": [
  {
   "cell_type": "code",
   "execution_count": 11,
   "id": "1d49ff36-a06f-40b0-b3ab-8bf5f68fdf33",
   "metadata": {},
   "outputs": [
    {
     "name": "stdout",
     "output_type": "stream",
     "text": [
      "kappa1 = 1.37+/-0.06\n",
      "kappa2 = 1.37+/-0.06\n",
      "c pro 1000 = 344.6+/-3.5\n",
      "c pro 1600 = 342.0+/-3.5\n",
      "c pro 1984 = 344.1+/-3.5\n",
      "c pro 2200 = 342+/-4\n"
     ]
    }
   ],
   "source": [
    "import pandas as pd\n",
    "import numpy as np\n",
    "from uncertainties import *\n",
    "from scipy import interpolate, integrate\n",
    "\n",
    "p = ufloat (99 398.8,0)\n",
    "rho = ufloat (1.1748,0)\n",
    "\n",
    "h1l = ufloat (274.5, 22.68)\n",
    "h2l = ufloat ( 74.8 , 6.71)\n",
    "i0l = ufloat(4.05 ,0.002)\n",
    "i1l = ufloat(12.65,0.7)\n",
    "i2l = ufloat(6.37,0.2)\n",
    "print (\"kappa1 =\", (h1l)/(h1l-h2l))\n",
    "\n",
    "print (\"kappa2 =\", (i1l - i0l)/(i1l-i2l))\n",
    "\n",
    "\n",
    "d1 = ufloat (17.22,0.03)\n",
    "d2 = ufloat (10.66,0.02)\n",
    "d3 = ufloat (8.67,0.01)\n",
    "d4 = ufloat (7.66,0.03)\n",
    "f1= ufloat (1000.6,10)\n",
    "f2= ufloat (1603.9,16)\n",
    "f3= ufloat (1984.3,19.84)\n",
    "f4= ufloat (2235.6,22.35)\n",
    "print (\"c pro 1000 =\", 2*d1*f1/100)\n",
    "\n",
    "print (\"c pro 1600 =\", 2*d2*f2/100)\n",
    "print (\"c pro 1984 =\", 2*d3*f3/100)\n",
    "print (\"c pro 2200 =\", 2*d4*f4/100)\n",
    "\n",
    "\n",
    "\n"
   ]
  },
  {
   "cell_type": "code",
   "execution_count": null,
   "id": "a3e26188-6207-4d0e-b78b-c3b8121bbc0a",
   "metadata": {},
   "outputs": [],
   "source": []
  }
 ],
 "metadata": {
  "kernelspec": {
   "display_name": "Python 3 (ipykernel)",
   "language": "python",
   "name": "python3"
  },
  "language_info": {
   "codemirror_mode": {
    "name": "ipython",
    "version": 3
   },
   "file_extension": ".py",
   "mimetype": "text/x-python",
   "name": "python",
   "nbconvert_exporter": "python",
   "pygments_lexer": "ipython3",
   "version": "3.12.2"
  }
 },
 "nbformat": 4,
 "nbformat_minor": 5
}
