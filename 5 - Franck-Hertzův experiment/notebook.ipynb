{
 "cells": [
  {
   "cell_type": "code",
   "execution_count": 22,
   "metadata": {},
   "outputs": [
    {
     "name": "stdout",
     "output_type": "stream",
     "text": [
      "maximum je realizovano v bode x =  55.440+/-0.010\n",
      "0\n",
      "17.416+/-0.007\n",
      "19.313+/-0.004\n"
     ]
    }
   ],
   "source": [
    "from uncertainties import ufloat\n",
    "import numpy as np\n",
    "#approximation formula: a0 + a1*x + a2*x^2 + a3*x^3\n",
    "\n",
    "a0, a1, a2, a3 = ufloat(3.003385714430227e+02\t,5.003178897450125e+01), ufloat(-4.671547619268563e+01\t,7.542205943340235e+00), ufloat(2.421428571540635e+00,\t3.780184669909076e-01), ufloat(-4.166666666856555e-02,\t6.299407931979389e-03)\n",
    "a0, a1, a2, a3 = ufloat(1.445604895087386e+02\t,6.704408259151793e+01), ufloat(-1.430787962023214e+01,\t5.647441039595575e+00), ufloat(4.616383616340523e-01\t,1.576761478362361e-01), ufloat(-4.807692307646735e-03\t,1.459321033996802e-03)\n",
    "a0, a1, a2, a3 = ufloat(-1.716783214197362e+03,\t8.030043261681819e+02), ufloat(8.391937950433076e+01,\t4.348063222892431e+01), ufloat(-1.344848484753040e+00,\t7.840885170758645e-01), ufloat(7.070707070102922e-03,\t4.708978276274042e-03)\n",
    "#a0,a1,a2,a3 = ufloat(-8.819244274858050e+02\t,9.096277448914345e+02), ufloat(6.152808395702591e+01\t,6.903828849397721e+01), ufloat(-1.410535713321321e+00\t,1.744941671895021e+00), ufloat(1.064814813993693e-02\t,1.468715810308024e-02)\n",
    "\n",
    "\n",
    "def f(x):\n",
    "    return a0 + a1*x + a2*x**2 + a3*x**3\n",
    "\n",
    "#find maximum in interval [18, 23]\n",
    "max =0\n",
    "x_values = np.arange(55, 59, 0.0001)\n",
    "max_value = -np.inf\n",
    "\n",
    "for x in x_values:\n",
    "    x = ufloat(x, 0.01)\n",
    "    y = f(x)\n",
    "    if y > max_value:\n",
    "        max_value = y\n",
    "        xmax = x\n",
    "print(\"maximum je realizovano v bode x = \", xmax)\n",
    "print(max)\n",
    "\n",
    "m1 = ufloat (20.608, 0.010)\n",
    "m2 = ufloat (37.702, 0.010)\n",
    "m3 = ufloat (55.4400, 0.010)\n",
    "\n",
    "d1 = m2 - m1\n",
    "d2 = m3 - m2\n",
    "d = (d1 + d2) / 2\n",
    "print(d)\n",
    "\n",
    "m2 = m2/2\n",
    "m3 = m3/3\n",
    "\n",
    "m = (m1 + m2 + m3) / 3\n",
    "print(m)\n"
   ]
  }
 ],
 "metadata": {
  "kernelspec": {
   "display_name": "Python 3",
   "language": "python",
   "name": "python3"
  },
  "language_info": {
   "codemirror_mode": {
    "name": "ipython",
    "version": 3
   },
   "file_extension": ".py",
   "mimetype": "text/x-python",
   "name": "python",
   "nbconvert_exporter": "python",
   "pygments_lexer": "ipython3",
   "version": "3.13.1"
  }
 },
 "nbformat": 4,
 "nbformat_minor": 2
}
