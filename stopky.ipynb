{
 "cells": [
  {
   "cell_type": "code",
   "execution_count": 17,
   "metadata": {},
   "outputs": [
    {
     "name": "stdout",
     "output_type": "stream",
     "text": [
      "Press 'Enter' to start the stopwatch.\n",
      "Stopwatch started. Press '+' to count. The stopwatch will stop when the count reaches 40.\n"
     ]
    },
    {
     "name": "stderr",
     "output_type": "stream",
     "text": [
      "Counting: 100%|██████████| 40/40 [07:24<00:00, 11.10s/count]"
     ]
    },
    {
     "name": "stdout",
     "output_type": "stream",
     "text": [
      "Stopwatch stopped. Total time: 444.08 seconds.\n"
     ]
    },
    {
     "name": "stderr",
     "output_type": "stream",
     "text": [
      "\n"
     ]
    }
   ],
   "source": [
    "import time\n",
    "import keyboard\n",
    "from tqdm import tqdm\n",
    "\n",
    "def stopwatch_counter():\n",
    "    print(\"Press 'Enter' to start the stopwatch.\")\n",
    "    keyboard.wait('enter')  # Wait for the Enter key to start\n",
    "    start_time = time.time()\n",
    "    count = 0\n",
    "    print(\"Stopwatch started. Press '+' to count. The stopwatch will stop when the count reaches 40.\")\n",
    "    \n",
    "    with tqdm(total=40, desc=\"Counting\", unit=\"count\") as pbar:\n",
    "        while count < 40:\n",
    "            elapsed_time = time.time() - start_time\n",
    "            if elapsed_time >= 600:  # Check if 10 minutes have passed\n",
    "                print(f\"Time limit reached. Current count: {count}, Elapsed time: {elapsed_time:.2f} seconds.\")\n",
    "                break\n",
    "            if keyboard.is_pressed('+'):  # Detect '+' key press\n",
    "                count += 1\n",
    "                pbar.update(1)  # Update the progress bar\n",
    "                time.sleep(0.1)  # Prevent multiple counts for a single press\n",
    "    \n",
    "    end_time = time.time()\n",
    "    elapsed_time = end_time - start_time\n",
    "    print(f\"Stopwatch stopped. Total time: {elapsed_time:.2f} seconds.\")\n",
    "\n",
    "stopwatch_counter()"
   ]
  }
 ],
 "metadata": {
  "kernelspec": {
   "display_name": "Python 3",
   "language": "python",
   "name": "python3"
  },
  "language_info": {
   "codemirror_mode": {
    "name": "ipython",
    "version": 3
   },
   "file_extension": ".py",
   "mimetype": "text/x-python",
   "name": "python",
   "nbconvert_exporter": "python",
   "pygments_lexer": "ipython3",
   "version": "3.13.1"
  }
 },
 "nbformat": 4,
 "nbformat_minor": 2
}
